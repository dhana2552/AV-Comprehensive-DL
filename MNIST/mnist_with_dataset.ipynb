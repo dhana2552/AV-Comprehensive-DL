{
 "cells": [
  {
   "cell_type": "code",
   "execution_count": 1,
   "metadata": {},
   "outputs": [],
   "source": [
    "import tensorflow as tf\n",
    "from tensorflow import keras\n",
    "from tensorflow.keras import layers, Sequential\n",
    "from tensorflow.keras.layers import Dense, Flatten, Conv2D, MaxPooling2D, Dropout"
   ]
  },
  {
   "cell_type": "code",
   "execution_count": 2,
   "metadata": {},
   "outputs": [],
   "source": [
    "import numpy as np\n",
    "import pandas as pd\n",
    "import matplotlib.pyplot as plt"
   ]
  },
  {
   "cell_type": "code",
   "execution_count": 3,
   "metadata": {},
   "outputs": [
    {
     "name": "stdout",
     "output_type": "stream",
     "text": [
      "(49000, 2)\n",
      "(21000, 1)\n"
     ]
    }
   ],
   "source": [
    "train = pd.read_csv('train.csv')\n",
    "test = pd.read_csv('Test_fCbTej3_0j1gHmj.csv')\n",
    "print(train.shape)\n",
    "print(test.shape)"
   ]
  },
  {
   "cell_type": "code",
   "execution_count": 4,
   "metadata": {},
   "outputs": [
    {
     "data": {
      "text/html": [
       "<div>\n",
       "<style scoped>\n",
       "    .dataframe tbody tr th:only-of-type {\n",
       "        vertical-align: middle;\n",
       "    }\n",
       "\n",
       "    .dataframe tbody tr th {\n",
       "        vertical-align: top;\n",
       "    }\n",
       "\n",
       "    .dataframe thead th {\n",
       "        text-align: right;\n",
       "    }\n",
       "</style>\n",
       "<table border=\"1\" class=\"dataframe\">\n",
       "  <thead>\n",
       "    <tr style=\"text-align: right;\">\n",
       "      <th></th>\n",
       "      <th>filename</th>\n",
       "      <th>label</th>\n",
       "    </tr>\n",
       "  </thead>\n",
       "  <tbody>\n",
       "    <tr>\n",
       "      <th>0</th>\n",
       "      <td>0.png</td>\n",
       "      <td>4</td>\n",
       "    </tr>\n",
       "    <tr>\n",
       "      <th>1</th>\n",
       "      <td>1.png</td>\n",
       "      <td>9</td>\n",
       "    </tr>\n",
       "    <tr>\n",
       "      <th>2</th>\n",
       "      <td>2.png</td>\n",
       "      <td>1</td>\n",
       "    </tr>\n",
       "    <tr>\n",
       "      <th>3</th>\n",
       "      <td>3.png</td>\n",
       "      <td>7</td>\n",
       "    </tr>\n",
       "    <tr>\n",
       "      <th>4</th>\n",
       "      <td>4.png</td>\n",
       "      <td>3</td>\n",
       "    </tr>\n",
       "  </tbody>\n",
       "</table>\n",
       "</div>"
      ],
      "text/plain": [
       "  filename  label\n",
       "0    0.png      4\n",
       "1    1.png      9\n",
       "2    2.png      1\n",
       "3    3.png      7\n",
       "4    4.png      3"
      ]
     },
     "execution_count": 4,
     "metadata": {},
     "output_type": "execute_result"
    }
   ],
   "source": [
    "train.head()"
   ]
  },
  {
   "cell_type": "code",
   "execution_count": 5,
   "metadata": {},
   "outputs": [
    {
     "data": {
      "text/html": [
       "<div>\n",
       "<style scoped>\n",
       "    .dataframe tbody tr th:only-of-type {\n",
       "        vertical-align: middle;\n",
       "    }\n",
       "\n",
       "    .dataframe tbody tr th {\n",
       "        vertical-align: top;\n",
       "    }\n",
       "\n",
       "    .dataframe thead th {\n",
       "        text-align: right;\n",
       "    }\n",
       "</style>\n",
       "<table border=\"1\" class=\"dataframe\">\n",
       "  <thead>\n",
       "    <tr style=\"text-align: right;\">\n",
       "      <th></th>\n",
       "      <th>filename</th>\n",
       "    </tr>\n",
       "  </thead>\n",
       "  <tbody>\n",
       "    <tr>\n",
       "      <th>0</th>\n",
       "      <td>49000.png</td>\n",
       "    </tr>\n",
       "    <tr>\n",
       "      <th>1</th>\n",
       "      <td>49001.png</td>\n",
       "    </tr>\n",
       "    <tr>\n",
       "      <th>2</th>\n",
       "      <td>49002.png</td>\n",
       "    </tr>\n",
       "    <tr>\n",
       "      <th>3</th>\n",
       "      <td>49003.png</td>\n",
       "    </tr>\n",
       "    <tr>\n",
       "      <th>4</th>\n",
       "      <td>49004.png</td>\n",
       "    </tr>\n",
       "  </tbody>\n",
       "</table>\n",
       "</div>"
      ],
      "text/plain": [
       "    filename\n",
       "0  49000.png\n",
       "1  49001.png\n",
       "2  49002.png\n",
       "3  49003.png\n",
       "4  49004.png"
      ]
     },
     "execution_count": 5,
     "metadata": {},
     "output_type": "execute_result"
    }
   ],
   "source": [
    "test.head()"
   ]
  },
  {
   "cell_type": "code",
   "execution_count": 6,
   "metadata": {},
   "outputs": [
    {
     "data": {
      "text/plain": [
       "1    5514\n",
       "7    5105\n",
       "3    4999\n",
       "2    4893\n",
       "9    4871\n",
       "0    4832\n",
       "6    4813\n",
       "4    4777\n",
       "8    4777\n",
       "5    4419\n",
       "Name: label, dtype: int64"
      ]
     },
     "execution_count": 6,
     "metadata": {},
     "output_type": "execute_result"
    }
   ],
   "source": [
    "train.label.value_counts()"
   ]
  },
  {
   "cell_type": "code",
   "execution_count": 7,
   "metadata": {},
   "outputs": [],
   "source": [
    "import os\n",
    "import shutil"
   ]
  },
  {
   "cell_type": "code",
   "execution_count": 8,
   "metadata": {},
   "outputs": [
    {
     "data": {
      "text/plain": [
       "49000"
      ]
     },
     "execution_count": 8,
     "metadata": {},
     "output_type": "execute_result"
    }
   ],
   "source": [
    "len(os.listdir('./Images/train'))"
   ]
  },
  {
   "cell_type": "code",
   "execution_count": 9,
   "metadata": {},
   "outputs": [],
   "source": [
    "!mkdir sample"
   ]
  },
  {
   "cell_type": "code",
   "execution_count": 10,
   "metadata": {},
   "outputs": [],
   "source": [
    "for i in range(0,10):\n",
    "    os.makedirs('./sample/'+str(i))"
   ]
  },
  {
   "cell_type": "code",
   "execution_count": 11,
   "metadata": {},
   "outputs": [],
   "source": [
    "for index in train.index:\n",
    "    for folder_name in range(0,10):\n",
    "        if train.loc[index, 'label'] == int(os.path.basename('./sample/'+str(folder_name))):\n",
    "            shutil.copy('./Images/train/'+str(train.loc[index, 'filename']), os.path.join('./sample/'+str(folder_name)+'/'))"
   ]
  },
  {
   "cell_type": "code",
   "execution_count": 12,
   "metadata": {},
   "outputs": [
    {
     "name": "stdout",
     "output_type": "stream",
     "text": [
      "4832\n",
      "5514\n",
      "4893\n",
      "4999\n",
      "4777\n",
      "4419\n",
      "4813\n",
      "5105\n",
      "4777\n",
      "4871\n"
     ]
    }
   ],
   "source": [
    "for i in range(0,10): \n",
    "    print(len(os.listdir('./sample/'+str(i))))"
   ]
  },
  {
   "cell_type": "code",
   "execution_count": 13,
   "metadata": {},
   "outputs": [],
   "source": [
    "os.makedirs('./sample/train')\n",
    "os.makedirs('./sample/test')\n",
    "os.makedirs('./sample/val')"
   ]
  },
  {
   "cell_type": "code",
   "execution_count": 14,
   "metadata": {},
   "outputs": [],
   "source": [
    "for i in range(0,10):\n",
    "    os.makedirs('./sample/train/'+str(i))\n",
    "    os.makedirs('./sample/test/'+str(i))\n",
    "    os.makedirs('./sample/val/'+str(i))"
   ]
  },
  {
   "cell_type": "code",
   "execution_count": 15,
   "metadata": {},
   "outputs": [
    {
     "data": {
      "text/plain": [
       "['0', '1', '2', '3', '4', '5', '6', '7', '8', '9']"
      ]
     },
     "execution_count": 15,
     "metadata": {},
     "output_type": "execute_result"
    }
   ],
   "source": [
    "os.listdir('./sample/train/')"
   ]
  },
  {
   "cell_type": "code",
   "execution_count": 16,
   "metadata": {},
   "outputs": [
    {
     "data": {
      "text/plain": [
       "['0/', '1/', '2/', '3/', '4/', '5/', '6/', '7/', '8/', '9/']"
      ]
     },
     "execution_count": 16,
     "metadata": {},
     "output_type": "execute_result"
    }
   ],
   "source": [
    "folder_list = [str(i)+'/' for i in range(0,10)]\n",
    "folder_list"
   ]
  },
  {
   "cell_type": "code",
   "execution_count": 17,
   "metadata": {},
   "outputs": [],
   "source": [
    "NEW_BASE = './sample/'"
   ]
  },
  {
   "cell_type": "code",
   "execution_count": 18,
   "metadata": {},
   "outputs": [
    {
     "name": "stdout",
     "output_type": "stream",
     "text": [
      "4832 2899 1208 725\n",
      "5514 3308 1379 827\n",
      "4893 2936 1223 734\n",
      "4999 2999 1250 750\n",
      "4777 2866 1194 717\n",
      "4419 2651 1105 663\n",
      "4813 2888 1203 722\n",
      "5105 3063 1276 766\n",
      "4777 2866 1194 717\n",
      "4871 2923 1218 730\n"
     ]
    }
   ],
   "source": [
    "for folder_idx, folder in enumerate(folder_list):\n",
    "    files = os.listdir(NEW_BASE + folder)\n",
    "    folder_name = folder.split('/')[0]\n",
    "    number_of_images = len([name for name in files])\n",
    "    n_train = int((number_of_images * 0.6) + 0.5)\n",
    "    n_valid = int((number_of_images*0.25) + 0.5)\n",
    "    n_test = number_of_images - n_train - n_valid\n",
    "    print(number_of_images, n_train, n_valid, n_test)\n",
    "    for idx, file in enumerate(files):\n",
    "        file_name = NEW_BASE + folder + file\n",
    "        if idx < n_train:\n",
    "            shutil.move(file_name, NEW_BASE + \"train/\" + folder_name)\n",
    "        elif idx < n_train + n_valid:\n",
    "            shutil.move(file_name, NEW_BASE + \"val/\" + folder_name)\n",
    "        else:\n",
    "            shutil.move(file_name, NEW_BASE + \"test/\" + folder_name)"
   ]
  },
  {
   "cell_type": "code",
   "execution_count": 19,
   "metadata": {},
   "outputs": [],
   "source": [
    "for i in range(0,10):\n",
    "    os.rmdir('./sample/'+str(i))"
   ]
  },
  {
   "cell_type": "code",
   "execution_count": 22,
   "metadata": {},
   "outputs": [
    {
     "data": {
      "text/plain": [
       "<matplotlib.image.AxesImage at 0x136cd540b20>"
      ]
     },
     "execution_count": 22,
     "metadata": {},
     "output_type": "execute_result"
    },
    {
     "data": {
      "image/png": "[encoded data removed]",
      "text/plain": [
       "<Figure size 432x288 with 1 Axes>"
      ]
     },
     "metadata": {
      "needs_background": "light"
     },
     "output_type": "display_data"
    }
   ],
   "source": [
    "import matplotlib.image as mpimg\n",
    "test_image = mpimg.imread(os.path.join('./sample/train/0/31.png'))\n",
    "plt.imshow(test_image)"
   ]
  },
  {
   "cell_type": "code",
   "execution_count": 23,
   "metadata": {},
   "outputs": [
    {
     "data": {
      "text/plain": [
       "['0', '1', '2', '3', '4', '5', '6', '7', '8', '9']"
      ]
     },
     "execution_count": 23,
     "metadata": {},
     "output_type": "execute_result"
    }
   ],
   "source": [
    "name_list = [str(i) for i in range(0, 10)]\n",
    "name_list"
   ]
  },
  {
   "cell_type": "code",
   "execution_count": 24,
   "metadata": {},
   "outputs": [
    {
     "name": "stdout",
     "output_type": "stream",
     "text": [
      "Found 29399 images belonging to 10 classes.\n",
      "Found 12250 images belonging to 10 classes.\n",
      "Found 7351 images belonging to 10 classes.\n"
     ]
    }
   ],
   "source": [
    "train_gen = keras.preprocessing.image.ImageDataGenerator(rescale=1./255)\n",
    "valid_gen = keras.preprocessing.image.ImageDataGenerator(rescale=1./255)\n",
    "test_gen = keras.preprocessing.image.ImageDataGenerator(rescale=1./255)\n",
    "\n",
    "train_batches = train_gen.flow_from_directory(\n",
    "    './sample/train',\n",
    "    target_size=(28, 28),\n",
    "    class_mode='sparse',\n",
    "    batch_size=32,\n",
    "    shuffle=True,\n",
    "    color_mode=\"grayscale\",\n",
    "    classes=name_list   \n",
    ")\n",
    "\n",
    "val_batches = valid_gen.flow_from_directory(\n",
    "    './sample/val',\n",
    "    target_size=(28, 28),\n",
    "    class_mode='sparse',\n",
    "    batch_size=32,\n",
    "    shuffle=True,\n",
    "    color_mode=\"grayscale\",\n",
    "    classes=name_list\n",
    ")\n",
    "\n",
    "test_batches = test_gen.flow_from_directory(\n",
    "    './sample/test',\n",
    "    target_size=(28, 28),\n",
    "    class_mode='sparse',\n",
    "    batch_size=32,\n",
    "    shuffle=False,\n",
    "    color_mode=\"grayscale\",\n",
    "    classes=name_list\n",
    ")"
   ]
  },
  {
   "cell_type": "code",
   "execution_count": 25,
   "metadata": {},
   "outputs": [
    {
     "name": "stdout",
     "output_type": "stream",
     "text": [
      "(32, 28, 28, 1)\n",
      "[3. 0. 1. 7. 1. 6. 9. 1. 2. 1. 2. 1. 9. 5. 5. 8. 6. 7. 1. 1. 1. 2. 6. 7.\n",
      " 2. 3. 2. 1. 8. 3. 2. 3.]\n",
      "(32, 28, 28, 1)\n",
      "[0. 0. 0. 0. 0. 0. 0. 0. 0. 0. 0. 0. 0. 0. 0. 0. 0. 0. 0. 0. 0. 0. 0. 0.\n",
      " 0. 0. 0. 0. 0. 0. 0. 0.]\n"
     ]
    }
   ],
   "source": [
    "train_batch = train_batches[0]\n",
    "print(train_batch[0].shape)\n",
    "print(train_batch[1])\n",
    "test_batch = test_batches[0]\n",
    "print(test_batch[0].shape)\n",
    "print(test_batch[1])"
   ]
  },
  {
   "cell_type": "code",
   "execution_count": 26,
   "metadata": {},
   "outputs": [
    {
     "data": {
      "image/png": "[encoded data removed]",
      "text/plain": [
       "<Figure size 360x360 with 4 Axes>"
      ]
     },
     "metadata": {},
     "output_type": "display_data"
    }
   ],
   "source": [
    "def show(batch, pred_labels=None):\n",
    "    plt.figure(figsize=(5,5))\n",
    "    for i in range(4):\n",
    "        plt.subplot(2,2,i+1)\n",
    "        plt.xticks([])\n",
    "        plt.yticks([])\n",
    "        plt.grid(False)\n",
    "        plt.imshow(batch[0][i], cmap=plt.cm.binary)\n",
    "        # The CIFAR labels happen to be arrays, \n",
    "        # which is why you need the extra index\n",
    "        lbl = name_list[int(batch[1][i])]\n",
    "        if pred_labels is not None:\n",
    "            lbl += \"/ Pred:\" + name_list[int(pred_labels[i])]\n",
    "        plt.xlabel(lbl)\n",
    "    plt.show()\n",
    "\n",
    "show(test_batch)"
   ]
  },
  {
   "cell_type": "code",
   "execution_count": 27,
   "metadata": {},
   "outputs": [
    {
     "name": "stdout",
     "output_type": "stream",
     "text": [
      "Model: \"sequential\"\n",
      "_________________________________________________________________\n",
      " Layer (type)                Output Shape              Param #   \n",
      "=================================================================\n",
      " conv2d (Conv2D)             (None, 28, 28, 128)       1280      \n",
      "                                                                 \n",
      " max_pooling2d (MaxPooling2D  (None, 14, 14, 128)      0         \n",
      " )                                                               \n",
      "                                                                 \n",
      " conv2d_1 (Conv2D)           (None, 12, 12, 64)        73792     \n",
      "                                                                 \n",
      " max_pooling2d_1 (MaxPooling  (None, 6, 6, 64)         0         \n",
      " 2D)                                                             \n",
      "                                                                 \n",
      " flatten (Flatten)           (None, 2304)              0         \n",
      "                                                                 \n",
      " dense (Dense)               (None, 128)               295040    \n",
      "                                                                 \n",
      " dense_1 (Dense)             (None, 10)                1290      \n",
      "                                                                 \n",
      "=================================================================\n",
      "Total params: 371,402\n",
      "Trainable params: 371,402\n",
      "Non-trainable params: 0\n",
      "_________________________________________________________________\n",
      "None\n"
     ]
    }
   ],
   "source": [
    "keras.backend.clear_session()\n",
    "model = keras.models.Sequential()\n",
    "model.add(layers.Conv2D(128, (3,3), padding=\"same\", activation='relu', input_shape=(28,28, 1)))\n",
    "model.add(layers.MaxPool2D((2,2)))\n",
    "model.add(layers.Conv2D(64, 3, activation='relu'))\n",
    "model.add(layers.MaxPool2D((2,2)))\n",
    "model.add(layers.Flatten())\n",
    "model.add(layers.Dense(128, activation='relu'))\n",
    "model.add(layers.Dense(10))\n",
    "print(model.summary())"
   ]
  },
  {
   "cell_type": "code",
   "execution_count": 28,
   "metadata": {},
   "outputs": [],
   "source": [
    "# loss and optimizer\n",
    "loss = keras.losses.SparseCategoricalCrossentropy(from_logits=True)\n",
    "optim = keras.optimizers.Adam(learning_rate=0.01)\n",
    "metrics = [\"accuracy\"]\n",
    "\n",
    "model.compile(optimizer=optim, loss=loss, metrics=metrics)"
   ]
  },
  {
   "cell_type": "code",
   "execution_count": 29,
   "metadata": {},
   "outputs": [
    {
     "name": "stdout",
     "output_type": "stream",
     "text": [
      "Epoch 1/30\n",
      "919/919 - 95s - loss: 0.2401 - accuracy: 0.9234 - val_loss: 0.1053 - val_accuracy: 0.9663 - 95s/epoch - 104ms/step\n",
      "Epoch 2/30\n",
      "919/919 - 84s - loss: 0.1032 - accuracy: 0.9682 - val_loss: 0.1048 - val_accuracy: 0.9722 - 84s/epoch - 91ms/step\n",
      "Epoch 3/30\n",
      "919/919 - 107s - loss: 0.0914 - accuracy: 0.9724 - val_loss: 0.1135 - val_accuracy: 0.9656 - 107s/epoch - 116ms/step\n",
      "Epoch 4/30\n",
      "919/919 - 97s - loss: 0.0730 - accuracy: 0.9790 - val_loss: 0.1047 - val_accuracy: 0.9719 - 97s/epoch - 106ms/step\n",
      "Epoch 5/30\n",
      "919/919 - 94s - loss: 0.0796 - accuracy: 0.9758 - val_loss: 0.1168 - val_accuracy: 0.9679 - 94s/epoch - 103ms/step\n",
      "Epoch 6/30\n",
      "919/919 - 94s - loss: 0.0639 - accuracy: 0.9808 - val_loss: 0.0968 - val_accuracy: 0.9746 - 94s/epoch - 102ms/step\n",
      "Epoch 7/30\n",
      "919/919 - 89s - loss: 0.0686 - accuracy: 0.9795 - val_loss: 0.0984 - val_accuracy: 0.9773 - 89s/epoch - 97ms/step\n",
      "Epoch 8/30\n",
      "919/919 - 82s - loss: 0.0612 - accuracy: 0.9820 - val_loss: 0.1068 - val_accuracy: 0.9747 - 82s/epoch - 89ms/step\n",
      "Epoch 9/30\n",
      "919/919 - 84s - loss: 0.0615 - accuracy: 0.9826 - val_loss: 0.1110 - val_accuracy: 0.9756 - 84s/epoch - 92ms/step\n",
      "Epoch 10/30\n",
      "919/919 - 77s - loss: 0.0625 - accuracy: 0.9832 - val_loss: 0.1232 - val_accuracy: 0.9704 - 77s/epoch - 84ms/step\n",
      "Epoch 11/30\n",
      "919/919 - 75s - loss: 0.0597 - accuracy: 0.9838 - val_loss: 0.1617 - val_accuracy: 0.9694 - 75s/epoch - 82ms/step\n",
      "Epoch 12/30\n",
      "919/919 - 73s - loss: 0.0575 - accuracy: 0.9841 - val_loss: 0.1369 - val_accuracy: 0.9758 - 73s/epoch - 79ms/step\n",
      "Epoch 13/30\n",
      "919/919 - 70s - loss: 0.0547 - accuracy: 0.9858 - val_loss: 0.1234 - val_accuracy: 0.9773 - 70s/epoch - 76ms/step\n",
      "Epoch 14/30\n",
      "919/919 - 89s - loss: 0.0562 - accuracy: 0.9850 - val_loss: 0.1668 - val_accuracy: 0.9690 - 89s/epoch - 97ms/step\n",
      "Epoch 15/30\n",
      "919/919 - 95s - loss: 0.0599 - accuracy: 0.9847 - val_loss: 0.1559 - val_accuracy: 0.9759 - 95s/epoch - 104ms/step\n",
      "Epoch 16/30\n",
      "919/919 - 105s - loss: 0.0525 - accuracy: 0.9864 - val_loss: 0.1644 - val_accuracy: 0.9722 - 105s/epoch - 114ms/step\n",
      "Epoch 17/30\n",
      "919/919 - 97s - loss: 0.0535 - accuracy: 0.9867 - val_loss: 0.2650 - val_accuracy: 0.9603 - 97s/epoch - 106ms/step\n",
      "Epoch 18/30\n",
      "919/919 - 100s - loss: 0.0684 - accuracy: 0.9837 - val_loss: 0.1717 - val_accuracy: 0.9729 - 100s/epoch - 108ms/step\n",
      "Epoch 19/30\n",
      "919/919 - 90s - loss: 0.0466 - accuracy: 0.9882 - val_loss: 0.2003 - val_accuracy: 0.9719 - 90s/epoch - 98ms/step\n",
      "Epoch 20/30\n",
      "919/919 - 98s - loss: 0.0503 - accuracy: 0.9875 - val_loss: 0.2355 - val_accuracy: 0.9719 - 98s/epoch - 107ms/step\n",
      "Epoch 21/30\n",
      "919/919 - 95s - loss: 0.0598 - accuracy: 0.9869 - val_loss: 0.2018 - val_accuracy: 0.9745 - 95s/epoch - 103ms/step\n",
      "Epoch 22/30\n",
      "919/919 - 103s - loss: 0.0595 - accuracy: 0.9871 - val_loss: 0.2576 - val_accuracy: 0.9721 - 103s/epoch - 112ms/step\n",
      "Epoch 23/30\n",
      "919/919 - 97s - loss: 0.0579 - accuracy: 0.9871 - val_loss: 0.1705 - val_accuracy: 0.9767 - 97s/epoch - 105ms/step\n",
      "Epoch 24/30\n",
      "919/919 - 106s - loss: 0.0647 - accuracy: 0.9865 - val_loss: 0.1983 - val_accuracy: 0.9745 - 106s/epoch - 115ms/step\n",
      "Epoch 25/30\n",
      "919/919 - 100s - loss: 0.0421 - accuracy: 0.9906 - val_loss: 0.2214 - val_accuracy: 0.9753 - 100s/epoch - 109ms/step\n",
      "Epoch 26/30\n",
      "919/919 - 96s - loss: 0.0698 - accuracy: 0.9862 - val_loss: 0.2144 - val_accuracy: 0.9748 - 96s/epoch - 105ms/step\n",
      "Epoch 27/30\n",
      "919/919 - 86s - loss: 0.0486 - accuracy: 0.9893 - val_loss: 0.2363 - val_accuracy: 0.9729 - 86s/epoch - 94ms/step\n",
      "Epoch 28/30\n",
      "919/919 - 68s - loss: 0.0515 - accuracy: 0.9892 - val_loss: 0.2137 - val_accuracy: 0.9764 - 68s/epoch - 74ms/step\n",
      "Epoch 29/30\n",
      "919/919 - 74s - loss: 0.0532 - accuracy: 0.9889 - val_loss: 0.1504 - val_accuracy: 0.9745 - 74s/epoch - 81ms/step\n",
      "Epoch 30/30\n",
      "919/919 - 75s - loss: 0.0634 - accuracy: 0.9873 - val_loss: 0.3226 - val_accuracy: 0.9671 - 75s/epoch - 82ms/step\n"
     ]
    }
   ],
   "source": [
    "\n",
    "epochs = 30\n",
    "\n",
    "# early_stopping = keras.callbacks.EarlyStopping(\n",
    "#     monitor=\"val_loss\",\n",
    "#     patience=5,\n",
    "#     verbose=2\n",
    "# )\n",
    "\n",
    "history = model.fit(train_batches, validation_data=val_batches,\n",
    "        #   callbacks=[early_stopping],\n",
    "          epochs=epochs, verbose=2)"
   ]
  },
  {
   "cell_type": "code",
   "execution_count": 30,
   "metadata": {},
   "outputs": [
    {
     "name": "stdout",
     "output_type": "stream",
     "text": [
      "230/230 - 9s - loss: 0.3338 - accuracy: 0.9656 - 9s/epoch - 41ms/step\n"
     ]
    },
    {
     "data": {
      "text/plain": [
       "[0.33382999897003174, 0.9655829071998596]"
      ]
     },
     "execution_count": 30,
     "metadata": {},
     "output_type": "execute_result"
    }
   ],
   "source": [
    "# evaluate on test data\n",
    "model.evaluate(test_batches, verbose=2)"
   ]
  },
  {
   "cell_type": "code",
   "execution_count": 31,
   "metadata": {},
   "outputs": [
    {
     "name": "stdout",
     "output_type": "stream",
     "text": [
      "[0. 0. 0. 0. 0. 0. 0. 0. 0. 0. 0. 0. 0. 0. 0. 0. 0. 0. 0. 0. 0. 0. 0. 0.\n",
      " 0. 0. 0. 0. 0. 0. 0. 0.]\n",
      "[0 0 0 ... 9 9 9]\n"
     ]
    }
   ],
   "source": [
    "# make some predictions\n",
    "predictions = model.predict(test_batches)\n",
    "predictions = tf.nn.softmax(predictions)\n",
    "labels = np.argmax(predictions, axis=1)\n",
    "\n",
    "print(test_batches[0][1])\n",
    "print(labels)"
   ]
  },
  {
   "cell_type": "code",
   "execution_count": 34,
   "metadata": {},
   "outputs": [
    {
     "data": {
      "text/plain": [
       "array([4., 4., 4., 4., 4., 4., 4., 4., 4., 4., 4., 4., 4., 4., 4., 4., 4.,\n",
       "       4., 4., 4., 4., 4., 4., 4., 4., 4., 4., 4., 4., 4., 4., 4.],\n",
       "      dtype=float32)"
      ]
     },
     "execution_count": 34,
     "metadata": {},
     "output_type": "execute_result"
    }
   ],
   "source": [
    "test_batches[100][1]"
   ]
  },
  {
   "cell_type": "code",
   "execution_count": 36,
   "metadata": {},
   "outputs": [
    {
     "data": {
      "text/plain": [
       "<matplotlib.image.AxesImage at 0x136d06862e0>"
      ]
     },
     "execution_count": 36,
     "metadata": {},
     "output_type": "execute_result"
    },
    {
     "data": {
      "image/png": "[encoded data removed]",
      "text/plain": [
       "<Figure size 432x288 with 1 Axes>"
      ]
     },
     "metadata": {
      "needs_background": "light"
     },
     "output_type": "display_data"
    }
   ],
   "source": [
    "plt.imshow(test_batches[100][0][0].reshape(28,28))"
   ]
  },
  {
   "cell_type": "code",
   "execution_count": 37,
   "metadata": {},
   "outputs": [],
   "source": [
    "pred1 = model.predict(test_batches[100][0][0].reshape(1,28,28))\n",
    "pred1 = tf.nn.softmax(pred1)\n",
    "label1 = np.argmax(pred1, axis=1)"
   ]
  },
  {
   "cell_type": "code",
   "execution_count": 38,
   "metadata": {},
   "outputs": [
    {
     "data": {
      "text/plain": [
       "array([4], dtype=int64)"
      ]
     },
     "execution_count": 38,
     "metadata": {},
     "output_type": "execute_result"
    }
   ],
   "source": [
    "label1"
   ]
  },
  {
   "cell_type": "code",
   "execution_count": 41,
   "metadata": {},
   "outputs": [
    {
     "name": "stdout",
     "output_type": "stream",
     "text": [
      "Found 21000 images belonging to 1 classes.\n"
     ]
    }
   ],
   "source": [
    "test_gen_new = keras.preprocessing.image.ImageDataGenerator(rescale=1./255)\n",
    "test_preprocessed = test_gen_new.flow_from_directory(\n",
    "    './Images',\n",
    "    class_mode='sparse',\n",
    "    target_size=(28, 28),\n",
    "    color_mode=\"grayscale\",\n",
    "    shuffle=False,\n",
    "    classes=['test']\n",
    ")"
   ]
  },
  {
   "cell_type": "code",
   "execution_count": 42,
   "metadata": {},
   "outputs": [],
   "source": [
    "prediction_new = model.predict(test_preprocessed)"
   ]
  },
  {
   "cell_type": "code",
   "execution_count": 43,
   "metadata": {},
   "outputs": [],
   "source": [
    "prediction_new = tf.nn.softmax(prediction_new)\n",
    "label_new = np.argmax(prediction_new, axis=1)"
   ]
  },
  {
   "cell_type": "code",
   "execution_count": 44,
   "metadata": {},
   "outputs": [
    {
     "data": {
      "text/html": [
       "<div>\n",
       "<style scoped>\n",
       "    .dataframe tbody tr th:only-of-type {\n",
       "        vertical-align: middle;\n",
       "    }\n",
       "\n",
       "    .dataframe tbody tr th {\n",
       "        vertical-align: top;\n",
       "    }\n",
       "\n",
       "    .dataframe thead th {\n",
       "        text-align: right;\n",
       "    }\n",
       "</style>\n",
       "<table border=\"1\" class=\"dataframe\">\n",
       "  <thead>\n",
       "    <tr style=\"text-align: right;\">\n",
       "      <th></th>\n",
       "      <th>filename</th>\n",
       "      <th>label</th>\n",
       "    </tr>\n",
       "  </thead>\n",
       "  <tbody>\n",
       "    <tr>\n",
       "      <th>0</th>\n",
       "      <td>49000.png</td>\n",
       "      <td>0</td>\n",
       "    </tr>\n",
       "    <tr>\n",
       "      <th>1</th>\n",
       "      <td>49001.png</td>\n",
       "      <td>0</td>\n",
       "    </tr>\n",
       "    <tr>\n",
       "      <th>2</th>\n",
       "      <td>49002.png</td>\n",
       "      <td>0</td>\n",
       "    </tr>\n",
       "    <tr>\n",
       "      <th>3</th>\n",
       "      <td>49003.png</td>\n",
       "      <td>0</td>\n",
       "    </tr>\n",
       "    <tr>\n",
       "      <th>4</th>\n",
       "      <td>49004.png</td>\n",
       "      <td>0</td>\n",
       "    </tr>\n",
       "  </tbody>\n",
       "</table>\n",
       "</div>"
      ],
      "text/plain": [
       "    filename  label\n",
       "0  49000.png      0\n",
       "1  49001.png      0\n",
       "2  49002.png      0\n",
       "3  49003.png      0\n",
       "4  49004.png      0"
      ]
     },
     "execution_count": 44,
     "metadata": {},
     "output_type": "execute_result"
    }
   ],
   "source": [
    "submission = pd.read_csv('sample_submission_npBPSZB.csv')\n",
    "submission.head()"
   ]
  },
  {
   "cell_type": "code",
   "execution_count": 45,
   "metadata": {},
   "outputs": [],
   "source": [
    "submission['label'] = label_new"
   ]
  },
  {
   "cell_type": "code",
   "execution_count": 46,
   "metadata": {},
   "outputs": [
    {
     "data": {
      "text/html": [
       "<div>\n",
       "<style scoped>\n",
       "    .dataframe tbody tr th:only-of-type {\n",
       "        vertical-align: middle;\n",
       "    }\n",
       "\n",
       "    .dataframe tbody tr th {\n",
       "        vertical-align: top;\n",
       "    }\n",
       "\n",
       "    .dataframe thead th {\n",
       "        text-align: right;\n",
       "    }\n",
       "</style>\n",
       "<table border=\"1\" class=\"dataframe\">\n",
       "  <thead>\n",
       "    <tr style=\"text-align: right;\">\n",
       "      <th></th>\n",
       "      <th>filename</th>\n",
       "      <th>label</th>\n",
       "    </tr>\n",
       "  </thead>\n",
       "  <tbody>\n",
       "    <tr>\n",
       "      <th>0</th>\n",
       "      <td>49000.png</td>\n",
       "      <td>4</td>\n",
       "    </tr>\n",
       "    <tr>\n",
       "      <th>1</th>\n",
       "      <td>49001.png</td>\n",
       "      <td>0</td>\n",
       "    </tr>\n",
       "    <tr>\n",
       "      <th>2</th>\n",
       "      <td>49002.png</td>\n",
       "      <td>9</td>\n",
       "    </tr>\n",
       "    <tr>\n",
       "      <th>3</th>\n",
       "      <td>49003.png</td>\n",
       "      <td>7</td>\n",
       "    </tr>\n",
       "    <tr>\n",
       "      <th>4</th>\n",
       "      <td>49004.png</td>\n",
       "      <td>9</td>\n",
       "    </tr>\n",
       "  </tbody>\n",
       "</table>\n",
       "</div>"
      ],
      "text/plain": [
       "    filename  label\n",
       "0  49000.png      4\n",
       "1  49001.png      0\n",
       "2  49002.png      9\n",
       "3  49003.png      7\n",
       "4  49004.png      9"
      ]
     },
     "execution_count": 46,
     "metadata": {},
     "output_type": "execute_result"
    }
   ],
   "source": [
    "submission.head()"
   ]
  },
  {
   "cell_type": "code",
   "execution_count": 47,
   "metadata": {},
   "outputs": [],
   "source": [
    "submission.to_csv(\"submission.csv\", index=False, header=True)"
   ]
  },
  {
   "cell_type": "code",
   "execution_count": null,
   "metadata": {},
   "outputs": [],
   "source": []
  }
 ],
 "metadata": {
  "interpreter": {
   "hash": "183d5bd13557a8b3d9f727325a71e0a208cd60a82917a0161417648bddba3df9"
  },
  "kernelspec": {
   "display_name": "Python 3.8.10 ('tf')",
   "language": "python",
   "name": "python3"
  },
  "language_info": {
   "codemirror_mode": {
    "name": "ipython",
    "version": 3
   },
   "file_extension": ".py",
   "mimetype": "text/x-python",
   "name": "python",
   "nbconvert_exporter": "python",
   "pygments_lexer": "ipython3",
   "version": "3.8.10"
  },
  "orig_nbformat": 4
 },
 "nbformat": 4,
 "nbformat_minor": 2
}
